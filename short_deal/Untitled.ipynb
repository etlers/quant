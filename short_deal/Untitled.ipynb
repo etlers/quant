{
 "cells": [
  {
   "cell_type": "code",
   "execution_count": 2,
   "id": "c7506e27-0147-49df-9bbb-b91070e38659",
   "metadata": {},
   "outputs": [],
   "source": [
    "import pandas as pd\n",
    "import datetime\n",
    "import time\n",
    "import requests\n",
    "import numpy as np"
   ]
  },
  {
   "cell_type": "code",
   "execution_count": 86,
   "id": "8672a915-d8e6-40bf-8cc0-7f447ed67b7a",
   "metadata": {},
   "outputs": [
    {
     "data": {
      "text/html": [
       "<div>\n",
       "<style scoped>\n",
       "    .dataframe tbody tr th:only-of-type {\n",
       "        vertical-align: middle;\n",
       "    }\n",
       "\n",
       "    .dataframe tbody tr th {\n",
       "        vertical-align: top;\n",
       "    }\n",
       "\n",
       "    .dataframe thead th {\n",
       "        text-align: right;\n",
       "    }\n",
       "</style>\n",
       "<table border=\"1\" class=\"dataframe\">\n",
       "  <thead>\n",
       "    <tr style=\"text-align: right;\">\n",
       "      <th></th>\n",
       "      <th>날짜</th>\n",
       "      <th>종가</th>\n",
       "      <th>전일비</th>\n",
       "      <th>시가</th>\n",
       "      <th>고가</th>\n",
       "      <th>저가</th>\n",
       "      <th>거래량</th>\n",
       "      <th>GAP</th>\n",
       "      <th>DIFF</th>\n",
       "    </tr>\n",
       "  </thead>\n",
       "  <tbody>\n",
       "    <tr>\n",
       "      <th>1</th>\n",
       "      <td>2022.04.13</td>\n",
       "      <td>19440.0</td>\n",
       "      <td>505.0</td>\n",
       "      <td>19075.0</td>\n",
       "      <td>19440.0</td>\n",
       "      <td>18990.0</td>\n",
       "      <td>10930183.0</td>\n",
       "      <td>450.0</td>\n",
       "      <td>NaN</td>\n",
       "    </tr>\n",
       "    <tr>\n",
       "      <th>2</th>\n",
       "      <td>2022.04.12</td>\n",
       "      <td>18935.0</td>\n",
       "      <td>365.0</td>\n",
       "      <td>19020.0</td>\n",
       "      <td>19195.0</td>\n",
       "      <td>18790.0</td>\n",
       "      <td>19387013.0</td>\n",
       "      <td>405.0</td>\n",
       "      <td>-505.0</td>\n",
       "    </tr>\n",
       "    <tr>\n",
       "      <th>3</th>\n",
       "      <td>2022.04.11</td>\n",
       "      <td>19300.0</td>\n",
       "      <td>25.0</td>\n",
       "      <td>19105.0</td>\n",
       "      <td>19460.0</td>\n",
       "      <td>19015.0</td>\n",
       "      <td>12602548.0</td>\n",
       "      <td>445.0</td>\n",
       "      <td>365.0</td>\n",
       "    </tr>\n",
       "    <tr>\n",
       "      <th>4</th>\n",
       "      <td>2022.04.08</td>\n",
       "      <td>19325.0</td>\n",
       "      <td>45.0</td>\n",
       "      <td>19355.0</td>\n",
       "      <td>19405.0</td>\n",
       "      <td>19085.0</td>\n",
       "      <td>15956735.0</td>\n",
       "      <td>320.0</td>\n",
       "      <td>25.0</td>\n",
       "    </tr>\n",
       "    <tr>\n",
       "      <th>5</th>\n",
       "      <td>2022.04.07</td>\n",
       "      <td>19280.0</td>\n",
       "      <td>560.0</td>\n",
       "      <td>19530.0</td>\n",
       "      <td>19590.0</td>\n",
       "      <td>19200.0</td>\n",
       "      <td>17045371.0</td>\n",
       "      <td>390.0</td>\n",
       "      <td>-45.0</td>\n",
       "    </tr>\n",
       "    <tr>\n",
       "      <th>9</th>\n",
       "      <td>2022.04.06</td>\n",
       "      <td>19840.0</td>\n",
       "      <td>440.0</td>\n",
       "      <td>19975.0</td>\n",
       "      <td>20055.0</td>\n",
       "      <td>19810.0</td>\n",
       "      <td>14118743.0</td>\n",
       "      <td>245.0</td>\n",
       "      <td>560.0</td>\n",
       "    </tr>\n",
       "    <tr>\n",
       "      <th>10</th>\n",
       "      <td>2022.04.05</td>\n",
       "      <td>20280.0</td>\n",
       "      <td>25.0</td>\n",
       "      <td>20445.0</td>\n",
       "      <td>20510.0</td>\n",
       "      <td>20150.0</td>\n",
       "      <td>11652397.0</td>\n",
       "      <td>360.0</td>\n",
       "      <td>440.0</td>\n",
       "    </tr>\n",
       "    <tr>\n",
       "      <th>11</th>\n",
       "      <td>2022.04.04</td>\n",
       "      <td>20305.0</td>\n",
       "      <td>200.0</td>\n",
       "      <td>19930.0</td>\n",
       "      <td>20325.0</td>\n",
       "      <td>19810.0</td>\n",
       "      <td>10471018.0</td>\n",
       "      <td>515.0</td>\n",
       "      <td>25.0</td>\n",
       "    </tr>\n",
       "    <tr>\n",
       "      <th>12</th>\n",
       "      <td>2022.04.01</td>\n",
       "      <td>20105.0</td>\n",
       "      <td>285.0</td>\n",
       "      <td>20165.0</td>\n",
       "      <td>20210.0</td>\n",
       "      <td>19905.0</td>\n",
       "      <td>11811809.0</td>\n",
       "      <td>305.0</td>\n",
       "      <td>-200.0</td>\n",
       "    </tr>\n",
       "    <tr>\n",
       "      <th>13</th>\n",
       "      <td>2022.03.31</td>\n",
       "      <td>20390.0</td>\n",
       "      <td>135.0</td>\n",
       "      <td>20215.0</td>\n",
       "      <td>20580.0</td>\n",
       "      <td>20210.0</td>\n",
       "      <td>15020402.0</td>\n",
       "      <td>370.0</td>\n",
       "      <td>285.0</td>\n",
       "    </tr>\n",
       "    <tr>\n",
       "      <th>1</th>\n",
       "      <td>2022.03.30</td>\n",
       "      <td>20255.0</td>\n",
       "      <td>140.0</td>\n",
       "      <td>20465.0</td>\n",
       "      <td>20540.0</td>\n",
       "      <td>20210.0</td>\n",
       "      <td>18143915.0</td>\n",
       "      <td>330.0</td>\n",
       "      <td>-135.0</td>\n",
       "    </tr>\n",
       "    <tr>\n",
       "      <th>2</th>\n",
       "      <td>2022.03.29</td>\n",
       "      <td>20115.0</td>\n",
       "      <td>175.0</td>\n",
       "      <td>20150.0</td>\n",
       "      <td>20320.0</td>\n",
       "      <td>19990.0</td>\n",
       "      <td>14829497.0</td>\n",
       "      <td>330.0</td>\n",
       "      <td>-140.0</td>\n",
       "    </tr>\n",
       "    <tr>\n",
       "      <th>3</th>\n",
       "      <td>2022.03.28</td>\n",
       "      <td>19940.0</td>\n",
       "      <td>25.0</td>\n",
       "      <td>19730.0</td>\n",
       "      <td>20030.0</td>\n",
       "      <td>19550.0</td>\n",
       "      <td>13510483.0</td>\n",
       "      <td>480.0</td>\n",
       "      <td>-175.0</td>\n",
       "    </tr>\n",
       "    <tr>\n",
       "      <th>4</th>\n",
       "      <td>2022.03.25</td>\n",
       "      <td>19915.0</td>\n",
       "      <td>135.0</td>\n",
       "      <td>20190.0</td>\n",
       "      <td>20195.0</td>\n",
       "      <td>19825.0</td>\n",
       "      <td>17333818.0</td>\n",
       "      <td>370.0</td>\n",
       "      <td>-25.0</td>\n",
       "    </tr>\n",
       "    <tr>\n",
       "      <th>5</th>\n",
       "      <td>2022.03.24</td>\n",
       "      <td>20050.0</td>\n",
       "      <td>180.0</td>\n",
       "      <td>19895.0</td>\n",
       "      <td>20075.0</td>\n",
       "      <td>19755.0</td>\n",
       "      <td>11729947.0</td>\n",
       "      <td>320.0</td>\n",
       "      <td>135.0</td>\n",
       "    </tr>\n",
       "    <tr>\n",
       "      <th>9</th>\n",
       "      <td>2022.03.23</td>\n",
       "      <td>20230.0</td>\n",
       "      <td>325.0</td>\n",
       "      <td>20115.0</td>\n",
       "      <td>20425.0</td>\n",
       "      <td>20040.0</td>\n",
       "      <td>20369628.0</td>\n",
       "      <td>385.0</td>\n",
       "      <td>180.0</td>\n",
       "    </tr>\n",
       "    <tr>\n",
       "      <th>10</th>\n",
       "      <td>2022.03.22</td>\n",
       "      <td>19905.0</td>\n",
       "      <td>350.0</td>\n",
       "      <td>19535.0</td>\n",
       "      <td>19940.0</td>\n",
       "      <td>19530.0</td>\n",
       "      <td>14264498.0</td>\n",
       "      <td>410.0</td>\n",
       "      <td>-325.0</td>\n",
       "    </tr>\n",
       "    <tr>\n",
       "      <th>11</th>\n",
       "      <td>2022.03.21</td>\n",
       "      <td>19555.0</td>\n",
       "      <td>405.0</td>\n",
       "      <td>20090.0</td>\n",
       "      <td>20135.0</td>\n",
       "      <td>19520.0</td>\n",
       "      <td>19520948.0</td>\n",
       "      <td>615.0</td>\n",
       "      <td>-350.0</td>\n",
       "    </tr>\n",
       "    <tr>\n",
       "      <th>12</th>\n",
       "      <td>2022.03.18</td>\n",
       "      <td>19960.0</td>\n",
       "      <td>100.0</td>\n",
       "      <td>19755.0</td>\n",
       "      <td>19990.0</td>\n",
       "      <td>19675.0</td>\n",
       "      <td>19741915.0</td>\n",
       "      <td>315.0</td>\n",
       "      <td>405.0</td>\n",
       "    </tr>\n",
       "    <tr>\n",
       "      <th>13</th>\n",
       "      <td>2022.03.17</td>\n",
       "      <td>19860.0</td>\n",
       "      <td>570.0</td>\n",
       "      <td>19995.0</td>\n",
       "      <td>20180.0</td>\n",
       "      <td>19860.0</td>\n",
       "      <td>24281075.0</td>\n",
       "      <td>320.0</td>\n",
       "      <td>-100.0</td>\n",
       "    </tr>\n",
       "  </tbody>\n",
       "</table>\n",
       "</div>"
      ],
      "text/plain": [
       "            날짜       종가    전일비       시가       고가       저가         거래량    GAP  \\\n",
       "1   2022.04.13  19440.0  505.0  19075.0  19440.0  18990.0  10930183.0  450.0   \n",
       "2   2022.04.12  18935.0  365.0  19020.0  19195.0  18790.0  19387013.0  405.0   \n",
       "3   2022.04.11  19300.0   25.0  19105.0  19460.0  19015.0  12602548.0  445.0   \n",
       "4   2022.04.08  19325.0   45.0  19355.0  19405.0  19085.0  15956735.0  320.0   \n",
       "5   2022.04.07  19280.0  560.0  19530.0  19590.0  19200.0  17045371.0  390.0   \n",
       "9   2022.04.06  19840.0  440.0  19975.0  20055.0  19810.0  14118743.0  245.0   \n",
       "10  2022.04.05  20280.0   25.0  20445.0  20510.0  20150.0  11652397.0  360.0   \n",
       "11  2022.04.04  20305.0  200.0  19930.0  20325.0  19810.0  10471018.0  515.0   \n",
       "12  2022.04.01  20105.0  285.0  20165.0  20210.0  19905.0  11811809.0  305.0   \n",
       "13  2022.03.31  20390.0  135.0  20215.0  20580.0  20210.0  15020402.0  370.0   \n",
       "1   2022.03.30  20255.0  140.0  20465.0  20540.0  20210.0  18143915.0  330.0   \n",
       "2   2022.03.29  20115.0  175.0  20150.0  20320.0  19990.0  14829497.0  330.0   \n",
       "3   2022.03.28  19940.0   25.0  19730.0  20030.0  19550.0  13510483.0  480.0   \n",
       "4   2022.03.25  19915.0  135.0  20190.0  20195.0  19825.0  17333818.0  370.0   \n",
       "5   2022.03.24  20050.0  180.0  19895.0  20075.0  19755.0  11729947.0  320.0   \n",
       "9   2022.03.23  20230.0  325.0  20115.0  20425.0  20040.0  20369628.0  385.0   \n",
       "10  2022.03.22  19905.0  350.0  19535.0  19940.0  19530.0  14264498.0  410.0   \n",
       "11  2022.03.21  19555.0  405.0  20090.0  20135.0  19520.0  19520948.0  615.0   \n",
       "12  2022.03.18  19960.0  100.0  19755.0  19990.0  19675.0  19741915.0  315.0   \n",
       "13  2022.03.17  19860.0  570.0  19995.0  20180.0  19860.0  24281075.0  320.0   \n",
       "\n",
       "     DIFF  \n",
       "1     NaN  \n",
       "2  -505.0  \n",
       "3   365.0  \n",
       "4    25.0  \n",
       "5   -45.0  \n",
       "9   560.0  \n",
       "10  440.0  \n",
       "11   25.0  \n",
       "12 -200.0  \n",
       "13  285.0  \n",
       "1  -135.0  \n",
       "2  -140.0  \n",
       "3  -175.0  \n",
       "4   -25.0  \n",
       "5   135.0  \n",
       "9   180.0  \n",
       "10 -325.0  \n",
       "11 -350.0  \n",
       "12  405.0  \n",
       "13 -100.0  "
      ]
     },
     "execution_count": 86,
     "metadata": {},
     "output_type": "execute_result"
    }
   ],
   "source": [
    "cd = \"122630\"\n",
    "\n",
    "list_df = []\n",
    "for pg in range(2):\n",
    "    refer_url = f\"https://finance.naver.com/item/sise_day.naver?code=122630&page={pg+1}\"\n",
    "    headers = {\n",
    "        \"referer\" : refer_url,    \n",
    "        \"user-agent\" : \"Mozilla/5.0 (Windows NT 10.0; Win64; x64) AppleWebKit/537.36 (KHTML, like Gecko) Chrome/97.0.4692.71 Safari/537.36\" \n",
    "    }\n",
    "\n",
    "    res = requests.get(url=refer_url, headers=headers)\n",
    "    list_df.append(pd.read_html(res.text)[0].dropna())\n",
    "\n",
    "df_base = pd.concat(list_df)\n",
    "df_base = df_base.drop_duplicates()\n",
    "df_base = df_base.sort_values(by=[\"날짜\"], ascending=False)\n",
    "df_base[\"GAP\"] = df_base[\"고가\"] - df_base[\"저가\"]\n",
    "df_base[\"DIFF\"] = df_base[\"종가\"].diff()\n",
    "df_base"
   ]
  },
  {
   "cell_type": "code",
   "execution_count": 65,
   "id": "bb08a456-35ec-448b-88a6-52b461802f69",
   "metadata": {},
   "outputs": [],
   "source": [
    "list_end_prc = np.array(df_base[\"종가\"])\n",
    "list_cprice = np.array(df_base[\"시가\"])\n",
    "list_hprice = np.array(df_base[\"고가\"])\n",
    "list_lprice = np.array(df_base[\"저가\"])\n",
    "list_diff = np.array(df_base[\"DIFF\"])[1:]"
   ]
  },
  {
   "cell_type": "code",
   "execution_count": 66,
   "id": "bea23af3-bd08-4234-a762-5129272f6348",
   "metadata": {},
   "outputs": [
    {
     "data": {
      "text/plain": [
       "(19937.5, 20067.5, 20187.5, 19765.0)"
      ]
     },
     "execution_count": 66,
     "metadata": {},
     "output_type": "execute_result"
    }
   ],
   "source": [
    "np.median(list_end_prc), np.median(list_cprice), np.median(list_hprice), np.median(list_lprice)"
   ]
  },
  {
   "cell_type": "code",
   "execution_count": 67,
   "id": "46ac0bb0-aa6a-4f82-8181-27d6f18298e5",
   "metadata": {},
   "outputs": [
    {
     "data": {
      "text/plain": [
       "[19335.0, 19466.25, 19143.75, 19786.25]"
      ]
     },
     "execution_count": 67,
     "metadata": {},
     "output_type": "execute_result"
    }
   ],
   "source": [
    "[np.quantile(list_end_prc, .25), np.quantile(list_cprice, .25), np.quantile(list_lprice, .25), np.quantile(list_hprice, .25)]"
   ]
  },
  {
   "cell_type": "code",
   "execution_count": 68,
   "id": "731bce4e-0e2d-4a16-8766-f86542109a30",
   "metadata": {},
   "outputs": [
    {
     "data": {
      "text/plain": [
       "19143.75"
      ]
     },
     "execution_count": 68,
     "metadata": {},
     "output_type": "execute_result"
    }
   ],
   "source": [
    "np.quantile(list_lprice, .25)"
   ]
  },
  {
   "cell_type": "code",
   "execution_count": 77,
   "id": "29ea72d3-eeb5-4c95-8941-57d510059542",
   "metadata": {},
   "outputs": [
    {
     "data": {
      "text/plain": [
       "array([  985.,   350.,   480.,  -405.,    90.,   565.,   330.,  -370.,\n",
       "        -575.,  -245.,   720.,   265.,  -155.,    20.,  -600.,   150.,\n",
       "       -1095.,   430.,   280.,  -105.,   700.,  -605.,  -935.,  -465.,\n",
       "         800.,  -175.,   -55.,  -345.,   540.,   570.,   100.,  -405.,\n",
       "         350.,   325.,  -180.,  -135.,    25.,   175.,   140.,   135.,\n",
       "        -285.,   200.,   -25.,  -440.,  -560.,    45.,   -25.,  -365.,\n",
       "         430.])"
      ]
     },
     "execution_count": 77,
     "metadata": {},
     "output_type": "execute_result"
    }
   ],
   "source": [
    "list_diff"
   ]
  },
  {
   "cell_type": "code",
   "execution_count": 84,
   "id": "177b5c0c-6008-4f23-97ab-7eaed529af8e",
   "metadata": {},
   "outputs": [
    {
     "data": {
      "text/plain": [
       "(4, 3)"
      ]
     },
     "execution_count": 84,
     "metadata": {},
     "output_type": "execute_result"
    }
   ],
   "source": [
    "inc_seq = 0\n",
    "dec_seq = 0\n",
    "inc_max = 0\n",
    "dec_max = 0\n",
    "\n",
    "for num in list_diff:\n",
    "    if num > 0:\n",
    "        inc_seq += 1\n",
    "        if inc_seq > inc_max:\n",
    "            inc_max = inc_seq\n",
    "        dec_seq = 0\n",
    "    elif num < 0:\n",
    "        dec_seq += 1\n",
    "        if dec_seq > dec_max:\n",
    "            dec_max = dec_seq\n",
    "        inc_seq = 0\n",
    "    else: continue\n",
    "    \n",
    "inc_max, dec_max"
   ]
  },
  {
   "cell_type": "code",
   "execution_count": 61,
   "id": "90b83ae7-7e1e-438b-95bd-bf598f29a9ff",
   "metadata": {},
   "outputs": [
    {
     "data": {
      "text/plain": [
       "(157.5, -285.0)"
      ]
     },
     "execution_count": 61,
     "metadata": {},
     "output_type": "execute_result"
    }
   ],
   "source": [
    "np.median(list_diff[list_diff > 0]), np.median(list_diff[list_diff < 0])"
   ]
  },
  {
   "cell_type": "code",
   "execution_count": 62,
   "id": "7aceaaa0-a4ba-4de4-94fc-d6320ca41245",
   "metadata": {},
   "outputs": [
    {
     "data": {
      "text/plain": [
       "(array([-405., -180., -135., -285.,  -25., -440., -560.,  -25., -365.]),\n",
       " array([100., 350., 325.,  25., 175., 140., 135., 200.,  45., 410.]))"
      ]
     },
     "execution_count": 62,
     "metadata": {},
     "output_type": "execute_result"
    }
   ],
   "source": [
    "# 가장 최근 몇번의 증감이 있었는지...\n",
    "list_dec = list_diff[list_diff < 0]\n",
    "list_inc = list_diff[list_diff > 0]\n",
    "\n",
    "list_dec, list_inc"
   ]
  },
  {
   "cell_type": "code",
   "execution_count": 110,
   "id": "e3bc8a6c-af47-4069-8235-9a45fd07009f",
   "metadata": {},
   "outputs": [],
   "source": [
    "# 기준가를 지정\n",
    "# 연속 3틱 두번 발생하면 매수 - 상승세로 판단.\n",
    "# 연속 5틱 두번 발생하면 매수 - 반등할거라 판단.\n",
    "# 꺽이는 지점에서 기준가 변경\n",
    "base_prc = 100\n",
    "list_prc = np.random.randint(18900, 19500, size=100)"
   ]
  },
  {
   "cell_type": "code",
   "execution_count": 111,
   "id": "3b1ce86d-d744-464b-acbf-09cf8f51fdc6",
   "metadata": {},
   "outputs": [
    {
     "data": {
      "text/plain": [
       "array([19446, 19408, 19132, 19219, 19030, 19164, 19490, 19354, 19363,\n",
       "       19161, 19493, 19273, 19376, 19373, 19242, 19132, 18927, 19041,\n",
       "       18906, 19227, 18945, 19082, 19419, 19338, 19258, 19438, 19363,\n",
       "       18922, 19361, 19285, 19496, 19097, 19220, 18982, 19049, 19113,\n",
       "       19156, 19164, 18930, 19270, 19345, 18989, 19495, 19212, 19194,\n",
       "       19445, 18993, 19181, 19103, 19356, 18909, 18961, 19378, 19170,\n",
       "       19055, 19307, 18939, 18991, 18928, 19186, 19179, 19160, 18985,\n",
       "       19106, 19089, 19406, 19452, 19198, 19335, 19317, 19306, 19062,\n",
       "       19348, 18938, 19116, 19189, 18953, 18998, 19070, 18912, 19177,\n",
       "       19087, 19013, 19251, 19158, 19283, 19064, 19229, 19059, 19216,\n",
       "       19082, 19270, 19074, 19046, 19083, 18964, 19084, 19160, 19228,\n",
       "       19354])"
      ]
     },
     "execution_count": 111,
     "metadata": {},
     "output_type": "execute_result"
    }
   ],
   "source": [
    "list_prc"
   ]
  },
  {
   "cell_type": "code",
   "execution_count": null,
   "id": "1a8dd236-215a-4705-b99d-efac1d7879ca",
   "metadata": {},
   "outputs": [],
   "source": []
  }
 ],
 "metadata": {
  "kernelspec": {
   "display_name": "Python 3 (ipykernel)",
   "language": "python",
   "name": "python3"
  },
  "language_info": {
   "codemirror_mode": {
    "name": "ipython",
    "version": 3
   },
   "file_extension": ".py",
   "mimetype": "text/x-python",
   "name": "python",
   "nbconvert_exporter": "python",
   "pygments_lexer": "ipython3",
   "version": "3.9.7"
  }
 },
 "nbformat": 4,
 "nbformat_minor": 5
}
