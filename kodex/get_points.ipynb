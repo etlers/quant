{
 "cells": [
  {
   "cell_type": "code",
   "execution_count": 45,
   "id": "6892c88f-a423-42d9-8957-1f2d04857b00",
   "metadata": {},
   "outputs": [],
   "source": [
    "import pandas as pd\n",
    "import numpy as np\n",
    "from scipy import stats\n",
    "import matplotlib.pyplot as plt\n",
    "import seaborn as sns\n",
    "from os import walk\n",
    "\n",
    "from IPython.core.interactiveshell import InteractiveShell\n",
    "InteractiveShell.ast_node_interactivity = \"all\"\n",
    "\n",
    "root_dir = \"./data/\"\n",
    "\n",
    "plt.style.use(\"seaborn-whitegrid\")\n",
    "plt.rc(\"font\", family = \"AppleGothic\")\n",
    "sns.set(\n",
    "    font=\"AppleGothic\", \n",
    "    rc={\"axes.unicode_minus\":False}, style='darkgrid'\n",
    ")"
   ]
  },
  {
   "cell_type": "code",
   "execution_count": 2,
   "id": "0b81396f-eb52-48e1-b602-0f259d580ef9",
   "metadata": {},
   "outputs": [],
   "source": [
    "list_files = []\n",
    "for (dirpath, dirnames, filenames) in walk(root_dir):\n",
    "    list_files.extend(filenames)\n",
    "    break\n",
    "    \n",
    "list_df = []\n",
    "for csv_file in list_files:\n",
    "    list_df.append(pd.read_csv(f\"{root_dir}{csv_file}\", encoding=\"utf-8-sig\"))\n",
    "    \n",
    "df_base = pd.concat(list_df)"
   ]
  },
  {
   "cell_type": "code",
   "execution_count": 3,
   "id": "0f894cbd-fdbc-4b9f-9ee6-3180903081d5",
   "metadata": {},
   "outputs": [
    {
     "data": {
      "text/html": [
       "<div>\n",
       "<style scoped>\n",
       "    .dataframe tbody tr th:only-of-type {\n",
       "        vertical-align: middle;\n",
       "    }\n",
       "\n",
       "    .dataframe tbody tr th {\n",
       "        vertical-align: top;\n",
       "    }\n",
       "\n",
       "    .dataframe thead th {\n",
       "        text-align: right;\n",
       "    }\n",
       "</style>\n",
       "<table border=\"1\" class=\"dataframe\">\n",
       "  <thead>\n",
       "    <tr style=\"text-align: right;\">\n",
       "      <th></th>\n",
       "      <th>DT</th>\n",
       "      <th>DIV</th>\n",
       "      <th>CD</th>\n",
       "      <th>NM</th>\n",
       "      <th>TIMES</th>\n",
       "      <th>CPRICE</th>\n",
       "      <th>DIFF</th>\n",
       "      <th>CVOL</th>\n",
       "      <th>VOL</th>\n",
       "    </tr>\n",
       "  </thead>\n",
       "  <tbody>\n",
       "    <tr>\n",
       "      <th>22</th>\n",
       "      <td>2022-04-12</td>\n",
       "      <td>실시간(장중 체결)</td>\n",
       "      <td>A122630</td>\n",
       "      <td>KODEX 레버리지</td>\n",
       "      <td>90151</td>\n",
       "      <td>19065</td>\n",
       "      <td>-235</td>\n",
       "      <td>200</td>\n",
       "      <td>315878</td>\n",
       "    </tr>\n",
       "    <tr>\n",
       "      <th>35</th>\n",
       "      <td>2022-04-12</td>\n",
       "      <td>실시간(장중 체결)</td>\n",
       "      <td>A122630</td>\n",
       "      <td>KODEX 레버리지</td>\n",
       "      <td>90151</td>\n",
       "      <td>19055</td>\n",
       "      <td>-245</td>\n",
       "      <td>200</td>\n",
       "      <td>316078</td>\n",
       "    </tr>\n",
       "    <tr>\n",
       "      <th>39</th>\n",
       "      <td>2022-04-12</td>\n",
       "      <td>실시간(장중 체결)</td>\n",
       "      <td>A122630</td>\n",
       "      <td>KODEX 레버리지</td>\n",
       "      <td>90151</td>\n",
       "      <td>19060</td>\n",
       "      <td>-240</td>\n",
       "      <td>47</td>\n",
       "      <td>316125</td>\n",
       "    </tr>\n",
       "    <tr>\n",
       "      <th>63</th>\n",
       "      <td>2022-04-12</td>\n",
       "      <td>실시간(장중 체결)</td>\n",
       "      <td>A122630</td>\n",
       "      <td>KODEX 레버리지</td>\n",
       "      <td>90152</td>\n",
       "      <td>19060</td>\n",
       "      <td>-240</td>\n",
       "      <td>1</td>\n",
       "      <td>316126</td>\n",
       "    </tr>\n",
       "    <tr>\n",
       "      <th>86</th>\n",
       "      <td>2022-04-12</td>\n",
       "      <td>실시간(장중 체결)</td>\n",
       "      <td>A122630</td>\n",
       "      <td>KODEX 레버리지</td>\n",
       "      <td>90153</td>\n",
       "      <td>19060</td>\n",
       "      <td>-240</td>\n",
       "      <td>50</td>\n",
       "      <td>316176</td>\n",
       "    </tr>\n",
       "  </tbody>\n",
       "</table>\n",
       "</div>"
      ],
      "text/plain": [
       "            DT         DIV       CD          NM  TIMES  CPRICE  DIFF  CVOL  \\\n",
       "22  2022-04-12  실시간(장중 체결)  A122630  KODEX 레버리지  90151   19065  -235   200   \n",
       "35  2022-04-12  실시간(장중 체결)  A122630  KODEX 레버리지  90151   19055  -245   200   \n",
       "39  2022-04-12  실시간(장중 체결)  A122630  KODEX 레버리지  90151   19060  -240    47   \n",
       "63  2022-04-12  실시간(장중 체결)  A122630  KODEX 레버리지  90152   19060  -240     1   \n",
       "86  2022-04-12  실시간(장중 체결)  A122630  KODEX 레버리지  90153   19060  -240    50   \n",
       "\n",
       "       VOL  \n",
       "22  315878  \n",
       "35  316078  \n",
       "39  316125  \n",
       "63  316126  \n",
       "86  316176  "
      ]
     },
     "execution_count": 3,
     "metadata": {},
     "output_type": "execute_result"
    }
   ],
   "source": [
    "df_kodex = df_base[(df_base[\"CD\"] == \"A122630\") & (df_base[\"CVOL\"] > 0)]\n",
    "df_kodex.head()"
   ]
  },
  {
   "cell_type": "code",
   "execution_count": 55,
   "id": "9b4e4d5f-b843-4ebe-8b53-99d5a82b1b3a",
   "metadata": {},
   "outputs": [
    {
     "data": {
      "text/plain": [
       "<matplotlib.collections.PathCollection at 0x7f98da9fb9a0>"
      ]
     },
     "execution_count": 55,
     "metadata": {},
     "output_type": "execute_result"
    },
    {
     "data": {
      "image/png": "[encoded data removed]",
      "text/plain": [
       "<Figure size 432x288 with 1 Axes>"
      ]
     },
     "metadata": {
      "needs_background": "light"
     },
     "output_type": "display_data"
    }
   ],
   "source": [
    "diff = np.array(df_kodex[\"DIFF\"])\n",
    "times = np.array(df_kodex[\"CVOL\"])\n",
    "\n",
    "plt.scatter(times, diff)\n",
    "plt.show()"
   ]
  },
  {
   "cell_type": "code",
   "execution_count": 56,
   "id": "bf5d8417-4d50-408d-a8c7-a24daba330a0",
   "metadata": {},
   "outputs": [
    {
     "name": "stdout",
     "output_type": "stream",
     "text": [
      "-0.0007129246784136357 -145.98964949440014 -0.006131914256949432 0.06862812274534492 0.00039152703046053315\n"
     ]
    },
    {
     "data": {
      "text/plain": [
       "<matplotlib.collections.PathCollection at 0x7f98f8931a00>"
      ]
     },
     "execution_count": 56,
     "metadata": {},
     "output_type": "execute_result"
    },
    {
     "data": {
      "text/plain": [
       "[<matplotlib.lines.Line2D at 0x7f98f8931fd0>]"
      ]
     },
     "execution_count": 56,
     "metadata": {},
     "output_type": "execute_result"
    },
    {
     "data": {
      "image/png": "[encoded data removed]",
      "text/plain": [
       "<Figure size 432x288 with 1 Axes>"
      ]
     },
     "metadata": {
      "needs_background": "light"
     },
     "output_type": "display_data"
    }
   ],
   "source": [
    "# Execute a method that returns some important key values of Linear Regression:\n",
    "slope, intercept, r, p, std_err = stats.linregress(times, diff)\n",
    "# The r value ranges from -1 to 1, where 0 means no relationship, and 1 (and -1) means 100% related.\n",
    "# 'r'값은 0이면 관계가 없고 -1 또는 1이면 100% 관계가 있다는 것을 의미. 그러므로 '0.76'은 관계는 있지만 완벽하지는 않음을 의미한다.\n",
    "print(slope, intercept, r, p, std_err)\n",
    "\n",
    "# Create a function that uses the slope and intercept values to return a new value.\n",
    "# This new value represents where on the y-axis the corresponding x value will be placed:\n",
    "def myfunc(x):\n",
    "    return slope * x + intercept\n",
    "\n",
    "mymodel = list(map(myfunc, times))\n",
    "\n",
    "plt.scatter(times, diff)\n",
    "plt.plot(times, mymodel)\n",
    "plt.show()"
   ]
  },
  {
   "cell_type": "code",
   "execution_count": 17,
   "id": "c40666ac-dcb6-4771-b87e-7b655a4e6838",
   "metadata": {},
   "outputs": [
    {
     "name": "stdout",
     "output_type": "stream",
     "text": [
      "-418.40173687354184\n"
     ]
    }
   ],
   "source": [
    "# 10년된 차의 속도를 예측한다.\n",
    "speed = myfunc(120000)\n",
    "\n",
    "print(speed)"
   ]
  },
  {
   "cell_type": "code",
   "execution_count": 52,
   "id": "44720d26-b102-41e5-97e9-6f31d29aec20",
   "metadata": {},
   "outputs": [
    {
     "data": {
      "text/plain": [
       "<matplotlib.collections.PathCollection at 0x7f990bfa85e0>"
      ]
     },
     "execution_count": 52,
     "metadata": {},
     "output_type": "execute_result"
    },
    {
     "data": {
      "text/plain": [
       "[<matplotlib.lines.Line2D at 0x7f990bfa8bb0>]"
      ]
     },
     "execution_count": 52,
     "metadata": {},
     "output_type": "execute_result"
    },
    {
     "data": {
      "image/png": "[encoded data removed]",
      "text/plain": [
       "<Figure size 432x288 with 1 Axes>"
      ]
     },
     "metadata": {
      "needs_background": "light"
     },
     "output_type": "display_data"
    }
   ],
   "source": [
    "# 주어진 데이터에 곡선을 맞춤 표시\n",
    "mymodel = np.poly1d(np.polyfit(CVOL, diff, 5))\n",
    "# Then specify how the line will display, we start at position 1, and end at position 22:\n",
    "myline = np.linspace(80000, 160000, 100)\n",
    "# print(myline)\n",
    "\n",
    "plt.scatter(times, diff)\n",
    "plt.plot(myline, mymodel(myline))\n",
    "plt.show()"
   ]
  },
  {
   "cell_type": "code",
   "execution_count": 35,
   "id": "647dce4b-2189-4208-8ed1-3cbbec24d32c",
   "metadata": {},
   "outputs": [
    {
     "data": {
      "text/plain": [
       "-392.05362877875086"
      ]
     },
     "execution_count": 35,
     "metadata": {},
     "output_type": "execute_result"
    }
   ],
   "source": [
    "mymodel(120000)"
   ]
  },
  {
   "cell_type": "code",
   "execution_count": 55,
   "id": "89e515bb-5af8-4319-b94a-2a7c63aaaccb",
   "metadata": {},
   "outputs": [
    {
     "data": {
      "text/html": [
       "<div>\n",
       "<style scoped>\n",
       "    .dataframe tbody tr th:only-of-type {\n",
       "        vertical-align: middle;\n",
       "    }\n",
       "\n",
       "    .dataframe tbody tr th {\n",
       "        vertical-align: top;\n",
       "    }\n",
       "\n",
       "    .dataframe thead th {\n",
       "        text-align: right;\n",
       "    }\n",
       "</style>\n",
       "<table border=\"1\" class=\"dataframe\">\n",
       "  <thead>\n",
       "    <tr style=\"text-align: right;\">\n",
       "      <th></th>\n",
       "      <th>DT</th>\n",
       "      <th>DIV</th>\n",
       "      <th>CD</th>\n",
       "      <th>NM</th>\n",
       "      <th>TIMES</th>\n",
       "      <th>CPRICE</th>\n",
       "      <th>DIFF</th>\n",
       "      <th>CVOL</th>\n",
       "      <th>VOL</th>\n",
       "    </tr>\n",
       "  </thead>\n",
       "  <tbody>\n",
       "    <tr>\n",
       "      <th>23</th>\n",
       "      <td>2022-04-14</td>\n",
       "      <td>실시간(예상 체결)</td>\n",
       "      <td>A122630</td>\n",
       "      <td>KODEX 레버리지</td>\n",
       "      <td>85237</td>\n",
       "      <td>19485</td>\n",
       "      <td>-150</td>\n",
       "      <td>9</td>\n",
       "      <td>55945</td>\n",
       "    </tr>\n",
       "    <tr>\n",
       "      <th>72</th>\n",
       "      <td>2022-04-14</td>\n",
       "      <td>실시간(예상 체결)</td>\n",
       "      <td>A122630</td>\n",
       "      <td>KODEX 레버리지</td>\n",
       "      <td>85309</td>\n",
       "      <td>19490</td>\n",
       "      <td>-145</td>\n",
       "      <td>1</td>\n",
       "      <td>55946</td>\n",
       "    </tr>\n",
       "    <tr>\n",
       "      <th>74</th>\n",
       "      <td>2022-04-14</td>\n",
       "      <td>실시간(예상 체결)</td>\n",
       "      <td>A122630</td>\n",
       "      <td>KODEX 레버리지</td>\n",
       "      <td>85311</td>\n",
       "      <td>19485</td>\n",
       "      <td>-150</td>\n",
       "      <td>24</td>\n",
       "      <td>55970</td>\n",
       "    </tr>\n",
       "    <tr>\n",
       "      <th>78</th>\n",
       "      <td>2022-04-14</td>\n",
       "      <td>실시간(예상 체결)</td>\n",
       "      <td>A122630</td>\n",
       "      <td>KODEX 레버리지</td>\n",
       "      <td>85313</td>\n",
       "      <td>19455</td>\n",
       "      <td>-180</td>\n",
       "      <td>838</td>\n",
       "      <td>56803</td>\n",
       "    </tr>\n",
       "    <tr>\n",
       "      <th>93</th>\n",
       "      <td>2022-04-14</td>\n",
       "      <td>실시간(예상 체결)</td>\n",
       "      <td>A122630</td>\n",
       "      <td>KODEX 레버리지</td>\n",
       "      <td>85318</td>\n",
       "      <td>19460</td>\n",
       "      <td>-175</td>\n",
       "      <td>2</td>\n",
       "      <td>56805</td>\n",
       "    </tr>\n",
       "  </tbody>\n",
       "</table>\n",
       "</div>"
      ],
      "text/plain": [
       "            DT         DIV       CD          NM  TIMES  CPRICE  DIFF  CVOL  \\\n",
       "23  2022-04-14  실시간(예상 체결)  A122630  KODEX 레버리지  85237   19485  -150     9   \n",
       "72  2022-04-14  실시간(예상 체결)  A122630  KODEX 레버리지  85309   19490  -145     1   \n",
       "74  2022-04-14  실시간(예상 체결)  A122630  KODEX 레버리지  85311   19485  -150    24   \n",
       "78  2022-04-14  실시간(예상 체결)  A122630  KODEX 레버리지  85313   19455  -180   838   \n",
       "93  2022-04-14  실시간(예상 체결)  A122630  KODEX 레버리지  85318   19460  -175     2   \n",
       "\n",
       "      VOL  \n",
       "23  55945  \n",
       "72  55946  \n",
       "74  55970  \n",
       "78  56803  \n",
       "93  56805  "
      ]
     },
     "execution_count": 55,
     "metadata": {},
     "output_type": "execute_result"
    }
   ],
   "source": [
    "df_last = df_kodex[df_kodex[\"DT\"] == \"2022-04-14\"]\n",
    "df_last.head()"
   ]
  },
  {
   "cell_type": "code",
   "execution_count": 56,
   "id": "bfd50702-5929-445e-a1a4-bcba505e5b83",
   "metadata": {},
   "outputs": [
    {
     "name": "stderr",
     "output_type": "stream",
     "text": [
      "/var/folders/l2/31k7fcdd2xb41np3rpzw20lh0000gn/T/ipykernel_2705/3945614100.py:1: SettingWithCopyWarning: \n",
      "A value is trying to be set on a copy of a slice from a DataFrame.\n",
      "Try using .loc[row_indexer,col_indexer] = value instead\n",
      "\n",
      "See the caveats in the documentation: https://pandas.pydata.org/pandas-docs/stable/user_guide/indexing.html#returning-a-view-versus-a-copy\n",
      "  df_last[\"PRC_DIFF\"] = df_last[\"CPRICE\"].diff()\n"
     ]
    },
    {
     "data": {
      "text/html": [
       "<div>\n",
       "<style scoped>\n",
       "    .dataframe tbody tr th:only-of-type {\n",
       "        vertical-align: middle;\n",
       "    }\n",
       "\n",
       "    .dataframe tbody tr th {\n",
       "        vertical-align: top;\n",
       "    }\n",
       "\n",
       "    .dataframe thead th {\n",
       "        text-align: right;\n",
       "    }\n",
       "</style>\n",
       "<table border=\"1\" class=\"dataframe\">\n",
       "  <thead>\n",
       "    <tr style=\"text-align: right;\">\n",
       "      <th></th>\n",
       "      <th>DT</th>\n",
       "      <th>DIV</th>\n",
       "      <th>CD</th>\n",
       "      <th>NM</th>\n",
       "      <th>TIMES</th>\n",
       "      <th>CPRICE</th>\n",
       "      <th>DIFF</th>\n",
       "      <th>CVOL</th>\n",
       "      <th>VOL</th>\n",
       "      <th>PRC_DIFF</th>\n",
       "    </tr>\n",
       "  </thead>\n",
       "  <tbody>\n",
       "    <tr>\n",
       "      <th>23</th>\n",
       "      <td>2022-04-14</td>\n",
       "      <td>실시간(예상 체결)</td>\n",
       "      <td>A122630</td>\n",
       "      <td>KODEX 레버리지</td>\n",
       "      <td>85237</td>\n",
       "      <td>19485</td>\n",
       "      <td>-150</td>\n",
       "      <td>9</td>\n",
       "      <td>55945</td>\n",
       "      <td>NaN</td>\n",
       "    </tr>\n",
       "    <tr>\n",
       "      <th>72</th>\n",
       "      <td>2022-04-14</td>\n",
       "      <td>실시간(예상 체결)</td>\n",
       "      <td>A122630</td>\n",
       "      <td>KODEX 레버리지</td>\n",
       "      <td>85309</td>\n",
       "      <td>19490</td>\n",
       "      <td>-145</td>\n",
       "      <td>1</td>\n",
       "      <td>55946</td>\n",
       "      <td>5.0</td>\n",
       "    </tr>\n",
       "    <tr>\n",
       "      <th>74</th>\n",
       "      <td>2022-04-14</td>\n",
       "      <td>실시간(예상 체결)</td>\n",
       "      <td>A122630</td>\n",
       "      <td>KODEX 레버리지</td>\n",
       "      <td>85311</td>\n",
       "      <td>19485</td>\n",
       "      <td>-150</td>\n",
       "      <td>24</td>\n",
       "      <td>55970</td>\n",
       "      <td>-5.0</td>\n",
       "    </tr>\n",
       "    <tr>\n",
       "      <th>78</th>\n",
       "      <td>2022-04-14</td>\n",
       "      <td>실시간(예상 체결)</td>\n",
       "      <td>A122630</td>\n",
       "      <td>KODEX 레버리지</td>\n",
       "      <td>85313</td>\n",
       "      <td>19455</td>\n",
       "      <td>-180</td>\n",
       "      <td>838</td>\n",
       "      <td>56803</td>\n",
       "      <td>-30.0</td>\n",
       "    </tr>\n",
       "    <tr>\n",
       "      <th>93</th>\n",
       "      <td>2022-04-14</td>\n",
       "      <td>실시간(예상 체결)</td>\n",
       "      <td>A122630</td>\n",
       "      <td>KODEX 레버리지</td>\n",
       "      <td>85318</td>\n",
       "      <td>19460</td>\n",
       "      <td>-175</td>\n",
       "      <td>2</td>\n",
       "      <td>56805</td>\n",
       "      <td>5.0</td>\n",
       "    </tr>\n",
       "  </tbody>\n",
       "</table>\n",
       "</div>"
      ],
      "text/plain": [
       "            DT         DIV       CD          NM  TIMES  CPRICE  DIFF  CVOL  \\\n",
       "23  2022-04-14  실시간(예상 체결)  A122630  KODEX 레버리지  85237   19485  -150     9   \n",
       "72  2022-04-14  실시간(예상 체결)  A122630  KODEX 레버리지  85309   19490  -145     1   \n",
       "74  2022-04-14  실시간(예상 체결)  A122630  KODEX 레버리지  85311   19485  -150    24   \n",
       "78  2022-04-14  실시간(예상 체결)  A122630  KODEX 레버리지  85313   19455  -180   838   \n",
       "93  2022-04-14  실시간(예상 체결)  A122630  KODEX 레버리지  85318   19460  -175     2   \n",
       "\n",
       "      VOL  PRC_DIFF  \n",
       "23  55945       NaN  \n",
       "72  55946       5.0  \n",
       "74  55970      -5.0  \n",
       "78  56803     -30.0  \n",
       "93  56805       5.0  "
      ]
     },
     "execution_count": 56,
     "metadata": {},
     "output_type": "execute_result"
    }
   ],
   "source": [
    "df_last[\"PRC_DIFF\"] = df_last[\"CPRICE\"].diff()\n",
    "df_last = df_last.sort_values(by=[\"TIMES\"], ascending=True)\n",
    "df_last.head()"
   ]
  },
  {
   "cell_type": "code",
   "execution_count": 57,
   "id": "dc7fd01b-b221-4f6e-bee2-6e1401c5d1ef",
   "metadata": {},
   "outputs": [
    {
     "data": {
      "text/plain": [
       "array([   5.,   -5.,  -30.,    5.,  -10.,  130.,   60., -190.,    5.,\n",
       "         -5.,    5.,    5.,    5.,   20.,  -20.,    5.,   -5.,    5.,\n",
       "          5.,   10.,   10.,    5.,   30.,    5.,   15.,   40.,  -15.,\n",
       "          5.,  -20.,   20.])"
      ]
     },
     "execution_count": 57,
     "metadata": {},
     "output_type": "execute_result"
    }
   ],
   "source": [
    "list_diff = np.array(df_last[df_last[\"PRC_DIFF\"] !=0][\"PRC_DIFF\"])[1:]\n",
    "list_diff[:30]"
   ]
  },
  {
   "cell_type": "code",
   "execution_count": 58,
   "id": "ae2348cf-9c7d-40fe-ad42-36f68a41aa40",
   "metadata": {},
   "outputs": [
    {
     "name": "stdout",
     "output_type": "stream",
     "text": [
      "Buy!! 19535.0\n"
     ]
    },
    {
     "data": {
      "text/plain": [
       "[[5.0, 5.0, 10.0, 10.0, 5.0, 30.0, 5.0, 15.0, 40.0],\n",
       " [5.0, 10.0, 5.0, 5.0, 5.0],\n",
       " [5.0, 5.0, 5.0, 5.0, 5.0],\n",
       " [5.0, 5.0, 5.0, 5.0, 5.0, 5.0],\n",
       " [5.0, 5.0, 5.0, 5.0, 5.0],\n",
       " [5.0, 5.0, 5.0, 5.0, 5.0, 5.0],\n",
       " [5.0, 5.0, 5.0, 5.0, 5.0, 5.0],\n",
       " [5.0, 5.0, 5.0, 5.0, 5.0],\n",
       " [5.0, 5.0, 5.0, 5.0, 5.0]]"
      ]
     },
     "execution_count": 58,
     "metadata": {},
     "output_type": "execute_result"
    }
   ],
   "source": [
    "# 4틱 두번 상승 후 또는 7틱 연속 상승 후 매수? 이후 계속 하락이면?\n",
    "list_continue_up = []\n",
    "list_temp_up = []\n",
    "continue_up_cnt = 0\n",
    "up_cnt = 0\n",
    "base_price = 19485\n",
    "buy_tf = True\n",
    "\n",
    "for num in list_diff:\n",
    "    base_price += num\n",
    "    if num > 0:\n",
    "        up_cnt += 1\n",
    "        list_temp_up.append(num)\n",
    "    else:\n",
    "        up_cnt = 0\n",
    "        if len(list_temp_up) > 4:\n",
    "            list_continue_up.append(list_temp_up)\n",
    "        list_temp_up = []\n",
    "        continue_up_cnt = 0\n",
    "        \n",
    "    if up_cnt == 4:\n",
    "        continue_up_cnt += 1\n",
    "    elif up_cnt == 7:\n",
    "        continue_up_cnt = 2\n",
    "        \n",
    "    if continue_up_cnt == 2:\n",
    "        print(\"Buy!!\", base_price)\n",
    "        continue_up_cnt = 0\n",
    "        \n",
    "list_continue_up"
   ]
  },
  {
   "cell_type": "code",
   "execution_count": 59,
   "id": "92bbd7dd-200a-44d2-aaf5-9940612c8eee",
   "metadata": {},
   "outputs": [
    {
     "data": {
      "text/plain": [
       "[[-10.0, -5.0, -5.0, -5.0, -5.0, -5.0],\n",
       " [-5.0, -5.0, -5.0, -5.0, -5.0],\n",
       " [-5.0, -5.0, -5.0, -10.0, -5.0],\n",
       " [-5.0, -5.0, -5.0, -5.0, -5.0],\n",
       " [-5.0, -5.0, -5.0, -5.0, -5.0],\n",
       " [-5.0, -5.0, -5.0, -5.0, -5.0, -5.0],\n",
       " [-5.0, -5.0, -5.0, -5.0, -5.0]]"
      ]
     },
     "execution_count": 59,
     "metadata": {},
     "output_type": "execute_result"
    }
   ],
   "source": [
    "#5틱 두번 하락 후 또는 12틱 연속 하락 후 매수? 이후 계속 하락하면?\n",
    "list_continue_down = []\n",
    "list_temp_down = []\n",
    "continue_down_cnt = 0\n",
    "down_cnt = 0\n",
    "base_price = 19485\n",
    "buy_tf = True\n",
    "\n",
    "for num in list_diff:\n",
    "    base_price += num\n",
    "    if num < 0:\n",
    "        down_cnt += 1\n",
    "        list_temp_down.append(num)\n",
    "    else:\n",
    "        down_cnt = 0\n",
    "        if len(list_temp_down) > 4:\n",
    "            list_continue_down.append(list_temp_down)\n",
    "        list_temp_down = []\n",
    "        continue_down_cnt = 0\n",
    "        \n",
    "    if down_cnt == 6:\n",
    "        continue_down_cnt += 1\n",
    "    elif down_cnt == 11:\n",
    "        continue_down_cnt = 2\n",
    "        \n",
    "    if continue_down_cnt == 2:\n",
    "        print(\"Buy!!\", base_price)\n",
    "        continue_down_cnt = 0\n",
    "        \n",
    "list_continue_down"
   ]
  },
  {
   "cell_type": "code",
   "execution_count": 60,
   "id": "1f4b3424-6a62-43b2-8f31-e2fb1d1d71b6",
   "metadata": {},
   "outputs": [
    {
     "data": {
      "text/plain": [
       "<AxesSubplot:xlabel='TIMES'>"
      ]
     },
     "execution_count": 60,
     "metadata": {},
     "output_type": "execute_result"
    },
    {
     "data": {
      "image/png": "[encoded data removed]",
      "text/plain": [
       "<Figure size 432x288 with 1 Axes>"
      ]
     },
     "metadata": {},
     "output_type": "display_data"
    }
   ],
   "source": [
    "df_kodex.plot(x=\"TIMES\", y=[\"CPRICE\"])"
   ]
  },
  {
   "cell_type": "code",
   "execution_count": null,
   "id": "2f83ae15-820b-486f-b4a0-e4785dbc5e9e",
   "metadata": {},
   "outputs": [],
   "source": []
  }
 ],
 "metadata": {
  "kernelspec": {
   "display_name": "Python 3 (ipykernel)",
   "language": "python",
   "name": "python3"
  },
  "language_info": {
   "codemirror_mode": {
    "name": "ipython",
    "version": 3
   },
   "file_extension": ".py",
   "mimetype": "text/x-python",
   "name": "python",
   "nbconvert_exporter": "python",
   "pygments_lexer": "ipython3",
   "version": "3.9.7"
  }
 },
 "nbformat": 4,
 "nbformat_minor": 5
}
