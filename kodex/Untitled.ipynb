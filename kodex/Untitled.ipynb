{
 "cells": [
  {
   "cell_type": "code",
   "execution_count": 36,
   "id": "6892c88f-a423-42d9-8957-1f2d04857b00",
   "metadata": {},
   "outputs": [],
   "source": [
    "import pandas as pd\n",
    "import numpy as np\n",
    "from scipy import stats\n",
    "import matplotlib.pyplot as plt\n",
    "from os import walk\n",
    "\n",
    "from IPython.core.interactiveshell import InteractiveShell\n",
    "InteractiveShell.ast_node_interactivity = \"all\"\n",
    "\n",
    "root_dir = \"./data/\""
   ]
  },
  {
   "cell_type": "code",
   "execution_count": 47,
   "id": "0b81396f-eb52-48e1-b602-0f259d580ef9",
   "metadata": {},
   "outputs": [],
   "source": [
    "list_files = []\n",
    "for (dirpath, dirnames, filenames) in walk(root_dir):\n",
    "    list_files.extend(filenames)\n",
    "    break\n",
    "    \n",
    "list_df = []\n",
    "for csv_file in list_files:\n",
    "    list_df.append(pd.read_csv(f\"{root_dir}{csv_file}\", encoding=\"utf-8-sig\"))\n",
    "    \n",
    "df_base = pd.concat(list_df)"
   ]
  },
  {
   "cell_type": "code",
   "execution_count": 48,
   "id": "0f894cbd-fdbc-4b9f-9ee6-3180903081d5",
   "metadata": {},
   "outputs": [
    {
     "data": {
      "text/html": [
       "<div>\n",
       "<style scoped>\n",
       "    .dataframe tbody tr th:only-of-type {\n",
       "        vertical-align: middle;\n",
       "    }\n",
       "\n",
       "    .dataframe tbody tr th {\n",
       "        vertical-align: top;\n",
       "    }\n",
       "\n",
       "    .dataframe thead th {\n",
       "        text-align: right;\n",
       "    }\n",
       "</style>\n",
       "<table border=\"1\" class=\"dataframe\">\n",
       "  <thead>\n",
       "    <tr style=\"text-align: right;\">\n",
       "      <th></th>\n",
       "      <th>DT</th>\n",
       "      <th>DIV</th>\n",
       "      <th>CD</th>\n",
       "      <th>NM</th>\n",
       "      <th>TIMES</th>\n",
       "      <th>CPRICE</th>\n",
       "      <th>DIFF</th>\n",
       "      <th>CVOL</th>\n",
       "      <th>VOL</th>\n",
       "    </tr>\n",
       "  </thead>\n",
       "  <tbody>\n",
       "    <tr>\n",
       "      <th>22</th>\n",
       "      <td>2022-04-12</td>\n",
       "      <td>실시간(장중 체결)</td>\n",
       "      <td>A122630</td>\n",
       "      <td>KODEX 레버리지</td>\n",
       "      <td>90151</td>\n",
       "      <td>19065</td>\n",
       "      <td>-235</td>\n",
       "      <td>200</td>\n",
       "      <td>315878</td>\n",
       "    </tr>\n",
       "    <tr>\n",
       "      <th>35</th>\n",
       "      <td>2022-04-12</td>\n",
       "      <td>실시간(장중 체결)</td>\n",
       "      <td>A122630</td>\n",
       "      <td>KODEX 레버리지</td>\n",
       "      <td>90151</td>\n",
       "      <td>19055</td>\n",
       "      <td>-245</td>\n",
       "      <td>200</td>\n",
       "      <td>316078</td>\n",
       "    </tr>\n",
       "    <tr>\n",
       "      <th>39</th>\n",
       "      <td>2022-04-12</td>\n",
       "      <td>실시간(장중 체결)</td>\n",
       "      <td>A122630</td>\n",
       "      <td>KODEX 레버리지</td>\n",
       "      <td>90151</td>\n",
       "      <td>19060</td>\n",
       "      <td>-240</td>\n",
       "      <td>47</td>\n",
       "      <td>316125</td>\n",
       "    </tr>\n",
       "    <tr>\n",
       "      <th>63</th>\n",
       "      <td>2022-04-12</td>\n",
       "      <td>실시간(장중 체결)</td>\n",
       "      <td>A122630</td>\n",
       "      <td>KODEX 레버리지</td>\n",
       "      <td>90152</td>\n",
       "      <td>19060</td>\n",
       "      <td>-240</td>\n",
       "      <td>1</td>\n",
       "      <td>316126</td>\n",
       "    </tr>\n",
       "    <tr>\n",
       "      <th>86</th>\n",
       "      <td>2022-04-12</td>\n",
       "      <td>실시간(장중 체결)</td>\n",
       "      <td>A122630</td>\n",
       "      <td>KODEX 레버리지</td>\n",
       "      <td>90153</td>\n",
       "      <td>19060</td>\n",
       "      <td>-240</td>\n",
       "      <td>50</td>\n",
       "      <td>316176</td>\n",
       "    </tr>\n",
       "  </tbody>\n",
       "</table>\n",
       "</div>"
      ],
      "text/plain": [
       "            DT         DIV       CD          NM  TIMES  CPRICE  DIFF  CVOL  \\\n",
       "22  2022-04-12  실시간(장중 체결)  A122630  KODEX 레버리지  90151   19065  -235   200   \n",
       "35  2022-04-12  실시간(장중 체결)  A122630  KODEX 레버리지  90151   19055  -245   200   \n",
       "39  2022-04-12  실시간(장중 체결)  A122630  KODEX 레버리지  90151   19060  -240    47   \n",
       "63  2022-04-12  실시간(장중 체결)  A122630  KODEX 레버리지  90152   19060  -240     1   \n",
       "86  2022-04-12  실시간(장중 체결)  A122630  KODEX 레버리지  90153   19060  -240    50   \n",
       "\n",
       "       VOL  \n",
       "22  315878  \n",
       "35  316078  \n",
       "39  316125  \n",
       "63  316126  \n",
       "86  316176  "
      ]
     },
     "execution_count": 48,
     "metadata": {},
     "output_type": "execute_result"
    }
   ],
   "source": [
    "df_kodex = df_base[(df_base[\"CD\"] == \"A122630\") & (df_base[\"CVOL\"] > 0)]\n",
    "df_kodex.head()"
   ]
  },
  {
   "cell_type": "code",
   "execution_count": 55,
   "id": "9b4e4d5f-b843-4ebe-8b53-99d5a82b1b3a",
   "metadata": {},
   "outputs": [
    {
     "data": {
      "text/plain": [
       "<matplotlib.collections.PathCollection at 0x7f98da9fb9a0>"
      ]
     },
     "execution_count": 55,
     "metadata": {},
     "output_type": "execute_result"
    },
    {
     "data": {
      "image/png": "[encoded data removed]",
      "text/plain": [
       "<Figure size 432x288 with 1 Axes>"
      ]
     },
     "metadata": {
      "needs_background": "light"
     },
     "output_type": "display_data"
    }
   ],
   "source": [
    "diff = np.array(df_kodex[\"DIFF\"])\n",
    "times = np.array(df_kodex[\"CVOL\"])\n",
    "\n",
    "plt.scatter(times, diff)\n",
    "plt.show()"
   ]
  },
  {
   "cell_type": "code",
   "execution_count": 56,
   "id": "bf5d8417-4d50-408d-a8c7-a24daba330a0",
   "metadata": {},
   "outputs": [
    {
     "name": "stdout",
     "output_type": "stream",
     "text": [
      "-0.0007129246784136357 -145.98964949440014 -0.006131914256949432 0.06862812274534492 0.00039152703046053315\n"
     ]
    },
    {
     "data": {
      "text/plain": [
       "<matplotlib.collections.PathCollection at 0x7f98f8931a00>"
      ]
     },
     "execution_count": 56,
     "metadata": {},
     "output_type": "execute_result"
    },
    {
     "data": {
      "text/plain": [
       "[<matplotlib.lines.Line2D at 0x7f98f8931fd0>]"
      ]
     },
     "execution_count": 56,
     "metadata": {},
     "output_type": "execute_result"
    },
    {
     "data": {
      "image/png": "[encoded data removed]",
      "text/plain": [
       "<Figure size 432x288 with 1 Axes>"
      ]
     },
     "metadata": {
      "needs_background": "light"
     },
     "output_type": "display_data"
    }
   ],
   "source": [
    "# Execute a method that returns some important key values of Linear Regression:\n",
    "slope, intercept, r, p, std_err = stats.linregress(times, diff)\n",
    "# The r value ranges from -1 to 1, where 0 means no relationship, and 1 (and -1) means 100% related.\n",
    "# 'r'값은 0이면 관계가 없고 -1 또는 1이면 100% 관계가 있다는 것을 의미. 그러므로 '0.76'은 관계는 있지만 완벽하지는 않음을 의미한다.\n",
    "print(slope, intercept, r, p, std_err)\n",
    "\n",
    "# Create a function that uses the slope and intercept values to return a new value.\n",
    "# This new value represents where on the y-axis the corresponding x value will be placed:\n",
    "def myfunc(x):\n",
    "    return slope * x + intercept\n",
    "\n",
    "mymodel = list(map(myfunc, times))\n",
    "\n",
    "plt.scatter(times, diff)\n",
    "plt.plot(times, mymodel)\n",
    "plt.show()"
   ]
  },
  {
   "cell_type": "code",
   "execution_count": 17,
   "id": "c40666ac-dcb6-4771-b87e-7b655a4e6838",
   "metadata": {},
   "outputs": [
    {
     "name": "stdout",
     "output_type": "stream",
     "text": [
      "-418.40173687354184\n"
     ]
    }
   ],
   "source": [
    "# 10년된 차의 속도를 예측한다.\n",
    "speed = myfunc(120000)\n",
    "\n",
    "print(speed)"
   ]
  },
  {
   "cell_type": "code",
   "execution_count": 52,
   "id": "44720d26-b102-41e5-97e9-6f31d29aec20",
   "metadata": {},
   "outputs": [
    {
     "data": {
      "text/plain": [
       "<matplotlib.collections.PathCollection at 0x7f990bfa85e0>"
      ]
     },
     "execution_count": 52,
     "metadata": {},
     "output_type": "execute_result"
    },
    {
     "data": {
      "text/plain": [
       "[<matplotlib.lines.Line2D at 0x7f990bfa8bb0>]"
      ]
     },
     "execution_count": 52,
     "metadata": {},
     "output_type": "execute_result"
    },
    {
     "data": {
      "image/png": "[encoded data removed]",
      "text/plain": [
       "<Figure size 432x288 with 1 Axes>"
      ]
     },
     "metadata": {
      "needs_background": "light"
     },
     "output_type": "display_data"
    }
   ],
   "source": [
    "# 주어진 데이터에 곡선을 맞춤 표시\n",
    "mymodel = np.poly1d(np.polyfit(CVOL, diff, 5))\n",
    "# Then specify how the line will display, we start at position 1, and end at position 22:\n",
    "myline = np.linspace(80000, 160000, 100)\n",
    "# print(myline)\n",
    "\n",
    "plt.scatter(times, diff)\n",
    "plt.plot(myline, mymodel(myline))\n",
    "plt.show()"
   ]
  },
  {
   "cell_type": "code",
   "execution_count": 35,
   "id": "647dce4b-2189-4208-8ed1-3cbbec24d32c",
   "metadata": {},
   "outputs": [
    {
     "data": {
      "text/plain": [
       "-392.05362877875086"
      ]
     },
     "execution_count": 35,
     "metadata": {},
     "output_type": "execute_result"
    }
   ],
   "source": [
    "mymodel(120000)"
   ]
  },
  {
   "cell_type": "code",
   "execution_count": 53,
   "id": "89e515bb-5af8-4319-b94a-2a7c63aaaccb",
   "metadata": {},
   "outputs": [
    {
     "data": {
      "text/html": [
       "<div>\n",
       "<style scoped>\n",
       "    .dataframe tbody tr th:only-of-type {\n",
       "        vertical-align: middle;\n",
       "    }\n",
       "\n",
       "    .dataframe tbody tr th {\n",
       "        vertical-align: top;\n",
       "    }\n",
       "\n",
       "    .dataframe thead th {\n",
       "        text-align: right;\n",
       "    }\n",
       "</style>\n",
       "<table border=\"1\" class=\"dataframe\">\n",
       "  <thead>\n",
       "    <tr style=\"text-align: right;\">\n",
       "      <th></th>\n",
       "      <th>DT</th>\n",
       "      <th>DIV</th>\n",
       "      <th>CD</th>\n",
       "      <th>NM</th>\n",
       "      <th>TIMES</th>\n",
       "      <th>CPRICE</th>\n",
       "      <th>DIFF</th>\n",
       "      <th>CVOL</th>\n",
       "      <th>VOL</th>\n",
       "    </tr>\n",
       "  </thead>\n",
       "  <tbody>\n",
       "    <tr>\n",
       "      <th>256</th>\n",
       "      <td>2022-04-15</td>\n",
       "      <td>실시간(예상 체결)</td>\n",
       "      <td>A122630</td>\n",
       "      <td>KODEX 레버리지</td>\n",
       "      <td>84254</td>\n",
       "      <td>18880</td>\n",
       "      <td>-565</td>\n",
       "      <td>400</td>\n",
       "      <td>102657</td>\n",
       "    </tr>\n",
       "    <tr>\n",
       "      <th>291</th>\n",
       "      <td>2022-04-15</td>\n",
       "      <td>실시간(예상 체결)</td>\n",
       "      <td>A122630</td>\n",
       "      <td>KODEX 레버리지</td>\n",
       "      <td>84311</td>\n",
       "      <td>19000</td>\n",
       "      <td>-445</td>\n",
       "      <td>1075</td>\n",
       "      <td>103732</td>\n",
       "    </tr>\n",
       "    <tr>\n",
       "      <th>294</th>\n",
       "      <td>2022-04-15</td>\n",
       "      <td>실시간(예상 체결)</td>\n",
       "      <td>A122630</td>\n",
       "      <td>KODEX 레버리지</td>\n",
       "      <td>84312</td>\n",
       "      <td>19075</td>\n",
       "      <td>-370</td>\n",
       "      <td>4</td>\n",
       "      <td>103736</td>\n",
       "    </tr>\n",
       "    <tr>\n",
       "      <th>309</th>\n",
       "      <td>2022-04-15</td>\n",
       "      <td>실시간(예상 체결)</td>\n",
       "      <td>A122630</td>\n",
       "      <td>KODEX 레버리지</td>\n",
       "      <td>84318</td>\n",
       "      <td>18900</td>\n",
       "      <td>-545</td>\n",
       "      <td>10</td>\n",
       "      <td>102783</td>\n",
       "    </tr>\n",
       "    <tr>\n",
       "      <th>311</th>\n",
       "      <td>2022-04-15</td>\n",
       "      <td>실시간(예상 체결)</td>\n",
       "      <td>A122630</td>\n",
       "      <td>KODEX 레버리지</td>\n",
       "      <td>84319</td>\n",
       "      <td>18900</td>\n",
       "      <td>-545</td>\n",
       "      <td>2</td>\n",
       "      <td>102785</td>\n",
       "    </tr>\n",
       "  </tbody>\n",
       "</table>\n",
       "</div>"
      ],
      "text/plain": [
       "             DT         DIV       CD          NM  TIMES  CPRICE  DIFF  CVOL  \\\n",
       "256  2022-04-15  실시간(예상 체결)  A122630  KODEX 레버리지  84254   18880  -565   400   \n",
       "291  2022-04-15  실시간(예상 체결)  A122630  KODEX 레버리지  84311   19000  -445  1075   \n",
       "294  2022-04-15  실시간(예상 체결)  A122630  KODEX 레버리지  84312   19075  -370     4   \n",
       "309  2022-04-15  실시간(예상 체결)  A122630  KODEX 레버리지  84318   18900  -545    10   \n",
       "311  2022-04-15  실시간(예상 체결)  A122630  KODEX 레버리지  84319   18900  -545     2   \n",
       "\n",
       "        VOL  \n",
       "256  102657  \n",
       "291  103732  \n",
       "294  103736  \n",
       "309  102783  \n",
       "311  102785  "
      ]
     },
     "execution_count": 53,
     "metadata": {},
     "output_type": "execute_result"
    }
   ],
   "source": [
    "df_last = df_kodex[df_kodex[\"DT\"] == \"2022-04-15\"]\n",
    "df_last.head()"
   ]
  },
  {
   "cell_type": "code",
   "execution_count": 54,
   "id": "dc7fd01b-b221-4f6e-bee2-6e1401c5d1ef",
   "metadata": {},
   "outputs": [
    {
     "data": {
      "text/plain": [
       "array([-565, -445, -370, ..., -435, -435, -435])"
      ]
     },
     "execution_count": 54,
     "metadata": {},
     "output_type": "execute_result"
    }
   ],
   "source": [
    "list_diff = np.array(df_last[\"DIFF\"])\n",
    "list_diff"
   ]
  },
  {
   "cell_type": "code",
   "execution_count": null,
   "id": "ae2348cf-9c7d-40fe-ad42-36f68a41aa40",
   "metadata": {},
   "outputs": [],
   "source": []
  }
 ],
 "metadata": {
  "kernelspec": {
   "display_name": "Python 3 (ipykernel)",
   "language": "python",
   "name": "python3"
  },
  "language_info": {
   "codemirror_mode": {
    "name": "ipython",
    "version": 3
   },
   "file_extension": ".py",
   "mimetype": "text/x-python",
   "name": "python",
   "nbconvert_exporter": "python",
   "pygments_lexer": "ipython3",
   "version": "3.9.7"
  }
 },
 "nbformat": 4,
 "nbformat_minor": 5
}
